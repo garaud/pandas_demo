{
 "cells": [
  {
   "cell_type": "markdown",
   "metadata": {},
   "source": [
    "# Pandas Demo\n",
    "\n",
    "**Python Meetup**\n",
    "\n",
    "[Damien Garaud](https://twitter.com/jazzydag)"
   ]
  },
  {
   "cell_type": "code",
   "execution_count": null,
   "metadata": {
    "collapsed": false
   },
   "outputs": [],
   "source": [
    "%matplotlib inline\n",
    "import matplotlib.pyplot as plt\n",
    "import pandas as pd\n",
    "print(\"pandas version {}\".format(pd.__version__))"
   ]
  },
  {
   "cell_type": "code",
   "execution_count": null,
   "metadata": {
    "collapsed": false
   },
   "outputs": [],
   "source": [
    "import seaborn as sns\n",
    "sns.set_context('talk')"
   ]
  },
  {
   "cell_type": "markdown",
   "metadata": {},
   "source": [
    "## Pandas"
   ]
  },
  {
   "cell_type": "markdown",
   "metadata": {},
   "source": [
    "**{Pan}el {Da}ta Analysis**\n",
    "\n",
    "* Python & Numpy\n",
    "* Performant (cython)\n",
    "* IT Quant / Orienté Finance (initialement)"
   ]
  },
  {
   "cell_type": "markdown",
   "metadata": {},
   "source": [
    "* Fonctionnalités\n",
    "\n",
    "  * données en 1D, 2D et 3D\n",
    "  * lecture/écriture sur CSV, Excel, base de données, hdf5, json, ...\n",
    "  * group-by, merge, join\n",
    "  * séries temporelles & valeurs manquantes"
   ]
  },
  {
   "cell_type": "markdown",
   "metadata": {},
   "source": [
    "* `DataFame`\n",
    "  * tableau 2D : matrice, table SQL, fichier CSV, feuille Excel\n",
    "  * un type de données par colonne : entier, double, chaîne de caractères, date, ..."
   ]
  },
  {
   "cell_type": "markdown",
   "metadata": {},
   "source": [
    "**Plan / Points abordés**\n",
    "\n",
    "* lecture de données\n",
    "* type de données\n",
    "* sélection de données\n",
    "* indicateurs statistiques\n",
    "* appliquer une fonction à une/des colonne(s)\n",
    "* groupby\n",
    "* tracer quelques figures\n",
    "* enchaîner des appels de fonction\n",
    "* séries temporelles\n",
    "* en bonus : un peu de machine learning"
   ]
  },
  {
   "cell_type": "markdown",
   "metadata": {},
   "source": [
    "**Note** : les données viennent de https://archive.ics.uci.edu/ml/index.html (Machine Learning Repository)"
   ]
  },
  {
   "cell_type": "markdown",
   "metadata": {},
   "source": [
    "## First baby step"
   ]
  },
  {
   "cell_type": "code",
   "execution_count": null,
   "metadata": {
    "collapsed": true
   },
   "outputs": [],
   "source": [
    "# p'tit DataFrame, tranquillou\n",
    "dates = [\"2016-10-11\", \"2016-11-09\", \"2016-09-09\", \"2016-10-19\"]\n",
    "df = pd.DataFrame({\"name\": ['john', 'alice', 'bob', 'jane'],\n",
    "                   \"age\": [34, 56, 31, 24],\n",
    "                   \"subs\": [True, True, False, True],\n",
    "                   \"logged\": [pd.Timestamp(x) for x in dates]})"
   ]
  },
  {
   "cell_type": "code",
   "execution_count": null,
   "metadata": {
    "collapsed": false
   },
   "outputs": [],
   "source": [
    "df"
   ]
  },
  {
   "cell_type": "code",
   "execution_count": null,
   "metadata": {
    "collapsed": false
   },
   "outputs": [],
   "source": [
    "df.dtypes"
   ]
  },
  {
   "cell_type": "markdown",
   "metadata": {},
   "source": [
    "## Contraceptive Methods\n",
    "\n",
    "Sondage à propos de la méthode contraceptive des femmes indiennes.\n",
    "\n",
    "**Data Set Information**:\n",
    "\n",
    "   > This dataset is a subset of the 1987 National Indonesia Contraceptive Prevalence Survey. The samples are married women who were either not pregnant or do not know if they were at the time of interview. The problem is to predict the current contraceptive method choice (no use, long-term methods, or short-term methods) of a woman based on her demographic and socio-economic characteristics.\n",
    "\n",
    "* https://archive.ics.uci.edu/ml/datasets/Contraceptive+Method+Choice\n",
    "* http://archive.ics.uci.edu/ml/machine-learning-databases/cmc/cmc.data\n",
    "\n",
    "### Récupérer les données"
   ]
  },
  {
   "cell_type": "code",
   "execution_count": null,
   "metadata": {
    "collapsed": false
   },
   "outputs": [],
   "source": [
    "# Comma Separated Values\n",
    "url = \"http://archive.ics.uci.edu/ml/machine-learning-databases/cmc/cmc.data\"\n",
    "fname = \"data/cmc.data\""
   ]
  },
  {
   "cell_type": "code",
   "execution_count": null,
   "metadata": {
    "collapsed": false
   },
   "outputs": [],
   "source": [
    "!head data/cmc.data"
   ]
  },
  {
   "cell_type": "code",
   "execution_count": null,
   "metadata": {
    "collapsed": true
   },
   "outputs": [],
   "source": [
    "# 10 colonnes\n",
    "cmc_names = ['age', 'education', 'husband_education', 'children', 'religion', 'working',\n",
    "             'husband_occupation', 'living_index', 'media', 'method']"
   ]
  },
  {
   "cell_type": "markdown",
   "metadata": {},
   "source": [
    "On peut lire un fichier CSV depuis un fichier **mais aussi depuis une URL**"
   ]
  },
  {
   "cell_type": "code",
   "execution_count": null,
   "metadata": {
    "collapsed": false
   },
   "outputs": [],
   "source": [
    "# lire des données\n",
    "cmc = ??"
   ]
  },
  {
   "cell_type": "markdown",
   "metadata": {},
   "source": [
    "### Sélection / info / description"
   ]
  },
  {
   "cell_type": "markdown",
   "metadata": {},
   "source": [
    "Cinq premières lignes du fichier."
   ]
  },
  {
   "cell_type": "code",
   "execution_count": null,
   "metadata": {
    "collapsed": false
   },
   "outputs": [],
   "source": [
    "# Premières lignes"
   ]
  },
  {
   "cell_type": "markdown",
   "metadata": {},
   "source": [
    "```\n",
    "Attribute Information:\n",
    "\n",
    "   1. Wife's age                     (numerical)\n",
    "   2. Wife's education               (categorical)      1=low, 2, 3, 4=high\n",
    "   3. Husband's education            (categorical)      1=low, 2, 3, 4=high\n",
    "   4. Number of children ever born   (numerical)\n",
    "   5. Wife's religion                (binary)           0=Non-Islam, 1=Islam\n",
    "   6. Wife's now working?            (binary)           0=Yes, 1=No\n",
    "   7. Husband's occupation           (categorical)      1, 2, 3, 4\n",
    "   8. Standard-of-living index       (categorical)      1=low, 2, 3, 4=high\n",
    "   9. Media exposure                 (binary)           0=Good, 1=Not good\n",
    "   10. Contraceptive method used     (class attribute)  1=No-use \n",
    "                                                        2=Long-term\n",
    "                                                        3=Short-term\n",
    "```"
   ]
  },
  {
   "cell_type": "markdown",
   "metadata": {},
   "source": [
    "Je veux juste une colonne"
   ]
  },
  {
   "cell_type": "code",
   "execution_count": null,
   "metadata": {
    "collapsed": false
   },
   "outputs": [],
   "source": [
    "# sélection de colonne: 'age'"
   ]
  },
  {
   "cell_type": "markdown",
   "metadata": {},
   "source": [
    "Je veux sélectionner plusieurs colonnes"
   ]
  },
  {
   "cell_type": "code",
   "execution_count": null,
   "metadata": {
    "collapsed": false
   },
   "outputs": [],
   "source": [
    "# sélection de plusieurs colonnes : 'education' et 'children'"
   ]
  },
  {
   "cell_type": "code",
   "execution_count": null,
   "metadata": {
    "collapsed": false
   },
   "outputs": [],
   "source": [
    "# sélectionner toutes les lignes où le nombre d'enfants est supérieur à 5"
   ]
  },
  {
   "cell_type": "code",
   "execution_count": null,
   "metadata": {
    "collapsed": false
   },
   "outputs": [],
   "source": [
    "# combien de femmes ont plus de 5 enfants ?"
   ]
  },
  {
   "cell_type": "code",
   "execution_count": null,
   "metadata": {
    "collapsed": false
   },
   "outputs": [],
   "source": [
    "# quelques infos rapides sur mes données\n",
    "cmc.info()"
   ]
  },
  {
   "cell_type": "code",
   "execution_count": null,
   "metadata": {
    "collapsed": false
   },
   "outputs": [],
   "source": [
    "# quelques statistiques sur les données numériques"
   ]
  },
  {
   "cell_type": "markdown",
   "metadata": {},
   "source": [
    "### Fouiller un peu"
   ]
  },
  {
   "cell_type": "markdown",
   "metadata": {},
   "source": [
    "**Combien de valeurs uniques par colonne ?**"
   ]
  },
  {
   "cell_type": "code",
   "execution_count": null,
   "metadata": {
    "collapsed": false
   },
   "outputs": [],
   "source": [
    "# je veux appliquer le compte d'éléments unique par colonne"
   ]
  },
  {
   "cell_type": "markdown",
   "metadata": {},
   "source": [
    "**L'âge et le nombre d'enfants par méthode contraceptive**\n",
    "\n",
    "Présentation du `group-by`."
   ]
  },
  {
   "cell_type": "code",
   "execution_count": null,
   "metadata": {
    "collapsed": false
   },
   "outputs": [],
   "source": [
    "# l'âge moyen et le nombre d'enfants moyen par méthode contraceptive"
   ]
  },
  {
   "cell_type": "markdown",
   "metadata": {},
   "source": [
    "**Corrélation** entre les données\n",
    "\n",
    "Exemple très simples de corrélation : la pluie et les parapluies"
   ]
  },
  {
   "cell_type": "code",
   "execution_count": null,
   "metadata": {
    "collapsed": false
   },
   "outputs": [],
   "source": [
    "# calcul de la corrélation entre toutes les colonnes"
   ]
  },
  {
   "cell_type": "code",
   "execution_count": null,
   "metadata": {
    "collapsed": false
   },
   "outputs": [],
   "source": [
    "# et si je veux afficher mes belles corrélations ? \n",
    "# sns.heatmap(cmc.corr(), square=True, annot=True, fmt=\".1f\")"
   ]
  },
  {
   "cell_type": "markdown",
   "metadata": {},
   "source": [
    "### Un peu prédiction"
   ]
  },
  {
   "cell_type": "markdown",
   "metadata": {},
   "source": [
    "Jouons un peu avec scikit-learn.\n",
    "\n",
    "Que pourrait-on **prédire** sur ce jeu de données ??"
   ]
  },
  {
   "cell_type": "code",
   "execution_count": null,
   "metadata": {
    "collapsed": false
   },
   "outputs": [],
   "source": [
    "from sklearn import cross_validation\n",
    "from sklearn.metrics import confusion_matrix\n",
    "#from sklearn.linear_model import LogisticRegression\n",
    "from sklearn.tree import DecisionTreeClassifier"
   ]
  },
  {
   "cell_type": "markdown",
   "metadata": {},
   "source": [
    "On prend d'un côté les *features* et de l'autre la valeur à prédire (i.e. `method`)"
   ]
  },
  {
   "cell_type": "code",
   "execution_count": null,
   "metadata": {
    "collapsed": false
   },
   "outputs": [],
   "source": [
    "# récupérons les features, les 'X', les variables d'entrée\n",
    "X = ??"
   ]
  },
  {
   "cell_type": "code",
   "execution_count": null,
   "metadata": {
    "collapsed": true
   },
   "outputs": [],
   "source": [
    "# récupérons la colonne des valeurs à prédire => méthode contraceptive\n",
    "y = ??"
   ]
  },
  {
   "cell_type": "code",
   "execution_count": null,
   "metadata": {
    "collapsed": false
   },
   "outputs": [],
   "source": [
    "# on mélange tout ça pour voir un jeu d'entraînement et un jeu de test pour la validation\n",
    "#X_train, X_test, y_train, y_test = cross_validation.train_test_split(X, y,\n",
    "#                                                                     stratify=y,\n",
    "#                                                                     random_state=22)"
   ]
  },
  {
   "cell_type": "code",
   "execution_count": null,
   "metadata": {
    "collapsed": true
   },
   "outputs": [],
   "source": [
    "# Modèle pour la classification\n",
    "#tree = DecisionTreeClassifier(random_state=0, class_weight='balanced')"
   ]
  },
  {
   "cell_type": "code",
   "execution_count": null,
   "metadata": {
    "collapsed": false
   },
   "outputs": [],
   "source": [
    "# on entraine le modèle sur le jeu... d'entraînement"
   ]
  },
  {
   "cell_type": "code",
   "execution_count": null,
   "metadata": {
    "collapsed": false
   },
   "outputs": [],
   "source": [
    "# et on demande à prédire sur le jeu de test : méthode contraceptive 1, 2 ou 3"
   ]
  },
  {
   "cell_type": "code",
   "execution_count": null,
   "metadata": {
    "collapsed": false
   },
   "outputs": [],
   "source": [
    "# on calcule le score de notre modèle sur le jeu de test"
   ]
  },
  {
   "cell_type": "markdown",
   "metadata": {},
   "source": [
    "Essayons d'améliorer ce score en ajoutant une *feature*."
   ]
  },
  {
   "cell_type": "code",
   "execution_count": null,
   "metadata": {
    "collapsed": true
   },
   "outputs": [],
   "source": [
    "# copie du DataFrame précédent\n",
    "cmc2 = cmc.copy()"
   ]
  },
  {
   "cell_type": "code",
   "execution_count": null,
   "metadata": {
    "collapsed": false
   },
   "outputs": [],
   "source": [
    "# ratio age/children\n",
    "cmc2['age_child'] = ??"
   ]
  },
  {
   "cell_type": "code",
   "execution_count": null,
   "metadata": {
    "collapsed": false
   },
   "outputs": [],
   "source": [
    "# remplacer toutes les valeurs 'inf'\n",
    "cmc2 ??\n",
    "cmc2.head(5)"
   ]
  },
  {
   "cell_type": "code",
   "execution_count": null,
   "metadata": {
    "collapsed": false
   },
   "outputs": [],
   "source": [
    "# on reprend les mêmes X et y, et on recommence\n",
    "X_2, y_2 = cmc2.drop('method', axis=1).values, cmc2['method'].values"
   ]
  },
  {
   "cell_type": "code",
   "execution_count": null,
   "metadata": {
    "collapsed": true
   },
   "outputs": [],
   "source": [
    "# séparer jeu d'entraînement et jeu de test\n",
    "X2_train, X2_test, y2_train, y2_test = cross_validation.train_test_split(X_2, y_2,\n",
    "                                                                         stratify=y,\n",
    "                                                                         random_state=22)"
   ]
  },
  {
   "cell_type": "code",
   "execution_count": null,
   "metadata": {
    "collapsed": false
   },
   "outputs": [],
   "source": [
    "# predict & score\n",
    "tree.fit(X2_train, y2_train)\n",
    "tree.predict(X2_test)\n",
    "tree.score(X2_test, y2_test)"
   ]
  },
  {
   "cell_type": "code",
   "execution_count": null,
   "metadata": {
    "collapsed": false
   },
   "outputs": [],
   "source": [
    "# et pour finir, un beau graphe\n",
    "# permet de montrer la distribution de chaque colonne et\n",
    "# la répartition des méthodes de contraception dans les data\n",
    "sns.pairplot(cmc2[['age', 'children', 'age_child', 'method']], hue='method')"
   ]
  },
  {
   "cell_type": "markdown",
   "metadata": {},
   "source": [
    "### Cas des colonnes \"dummies\"\n",
    "\n",
    "On note cependant que les colonnes no. 1, 2 ,6, 7 sont des données catégorielles\n",
    "\n",
    "* education\n",
    "* husband's education\n",
    "* husband's occupation\n",
    "* standard-of-living\n",
    "\n",
    "Pour certains modèles (e.g. Logistric Regression), on veut pouvoir transformer\n",
    "\n",
    "|C|\n",
    "|-|\n",
    "|1|\n",
    "|2|\n",
    "|1|\n",
    "|3|\n",
    "\n",
    "en \n",
    "\n",
    "|C1 |C2 |C3 |\n",
    "|---|---|---|\n",
    "| 1 | 0 | 0 |\n",
    "| 0 | 1 | 0 |\n",
    "| 1 | 0 | 0 |\n",
    "| 0 | 0 | 1 |\n",
    "\n",
    "Les données du dernier tableau sont souvent appelées *dummies data*."
   ]
  },
  {
   "cell_type": "code",
   "execution_count": null,
   "metadata": {
    "collapsed": false
   },
   "outputs": [],
   "source": [
    "# Et on transforme ces données en *dummies* data\n",
    "# exemple avec l'education (et on veut en ne garder que 3 sur quatre)"
   ]
  },
  {
   "cell_type": "markdown",
   "metadata": {},
   "source": [
    "## Flow People Count\n",
    "\n",
    "http://archive.ics.uci.edu/ml/datasets/CalIt2+Building+People+Counts\n",
    "\n",
    "**Data Set Information**:\n",
    "\n",
    "   > Observations come from 2 data streams (people flow in and out of the building), over 15 weeks, 48 time slices per day (half hour count aggregates).\n",
    "\n",
    "   > The purpose is to predict the presence of an event such as a conference in the building that is reflected by unusually high people counts for that day/time period. "
   ]
  },
  {
   "cell_type": "code",
   "execution_count": null,
   "metadata": {
    "collapsed": false
   },
   "outputs": [],
   "source": [
    "!head data/CalIt2.data"
   ]
  },
  {
   "cell_type": "code",
   "execution_count": null,
   "metadata": {
    "collapsed": true
   },
   "outputs": [],
   "source": [
    "url_flow = \"http://archive.ics.uci.edu/ml/machine-learning-databases/event-detection/CalIt2.data\""
   ]
  },
  {
   "cell_type": "code",
   "execution_count": null,
   "metadata": {
    "collapsed": true
   },
   "outputs": [],
   "source": [
    "# 4 colonnes\n",
    "# flow_id: 7 pour les gens qui sortent\n",
    "#          9 pour les gens qui entrent\n",
    "flow_names = [\"flow_id\", \"date\", \"time\", \"count\"]"
   ]
  },
  {
   "cell_type": "code",
   "execution_count": null,
   "metadata": {
    "collapsed": false
   },
   "outputs": [],
   "source": [
    "# lire les données\n",
    "flow = ??"
   ]
  },
  {
   "cell_type": "code",
   "execution_count": null,
   "metadata": {
    "collapsed": false
   },
   "outputs": [],
   "source": [
    "# premières lignes"
   ]
  },
  {
   "cell_type": "code",
   "execution_count": null,
   "metadata": {
    "collapsed": false
   },
   "outputs": [],
   "source": [
    "# info"
   ]
  },
  {
   "cell_type": "markdown",
   "metadata": {},
   "source": [
    "On va travailler un peu la donnée :\n",
    "\n",
    "* `flow_id` : 7 pour une personne qui sort, 9 pour entre\n",
    "* deux colonnes date & timestamp : ne faire qu'une date"
   ]
  },
  {
   "cell_type": "markdown",
   "metadata": {},
   "source": [
    "### Flow ID\n",
    "\n",
    "On veut avoir un truc un peu plus explicit que 7 ou 9"
   ]
  },
  {
   "cell_type": "code",
   "execution_count": null,
   "metadata": {
    "collapsed": false
   },
   "outputs": [],
   "source": [
    "# on va créer une nouvelle colonnes qui dit \"True\" ou \"False\" pour les gens qui sortent"
   ]
  },
  {
   "cell_type": "code",
   "execution_count": null,
   "metadata": {
    "collapsed": false
   },
   "outputs": [],
   "source": [
    "flow.head()"
   ]
  },
  {
   "cell_type": "code",
   "execution_count": null,
   "metadata": {
    "collapsed": false
   },
   "outputs": [],
   "source": [
    "# Exo : je veux compter le nombre total de gens \n",
    "# qui sont sortis et entrés de cet immeuble\n",
    "# quelle méthode, sur quelle colonne ??"
   ]
  },
  {
   "cell_type": "markdown",
   "metadata": {},
   "source": [
    "### Date & Timestamp"
   ]
  },
  {
   "cell_type": "markdown",
   "metadata": {},
   "source": [
    "* Qu'est-ce que sont les colonnes `date` et `time` ?\n",
    "* Comment convertir en \"vrai\" date ?"
   ]
  },
  {
   "cell_type": "code",
   "execution_count": null,
   "metadata": {
    "collapsed": false
   },
   "outputs": [],
   "source": [
    "# regardons de plus près 'date' et 'time'\n",
    "# sélectionner la 10e ligne et voir ce que contiennent ces deux colonnes"
   ]
  },
  {
   "cell_type": "code",
   "execution_count": null,
   "metadata": {
    "collapsed": false
   },
   "outputs": [],
   "source": [
    "# on va concaténer ces deux chaînes et essayer de fabriquer une date\n",
    "#    format de type 'MM/DD/YYThh:mm:ss'\n",
    "# d, t = ??, ??\n",
    "# concaténation ??"
   ]
  },
  {
   "cell_type": "code",
   "execution_count": null,
   "metadata": {
    "collapsed": false
   },
   "outputs": [],
   "source": [
    "# création d'un Timestamp\n",
    "# pd.Timestamp(??)"
   ]
  },
  {
   "cell_type": "markdown",
   "metadata": {},
   "source": [
    "On tente d'appliquer une fonction qui retourne un `Timestamp` pour l'affecter à une colonne."
   ]
  },
  {
   "cell_type": "code",
   "execution_count": null,
   "metadata": {
    "collapsed": false
   },
   "outputs": [],
   "source": [
    "# nouvelle colonne avec les \"vraies\" dates"
   ]
  },
  {
   "cell_type": "code",
   "execution_count": null,
   "metadata": {
    "collapsed": false
   },
   "outputs": [],
   "source": [
    "flow.head()"
   ]
  },
  {
   "cell_type": "code",
   "execution_count": null,
   "metadata": {
    "collapsed": false
   },
   "outputs": [],
   "source": [
    "flow.info()"
   ]
  },
  {
   "cell_type": "markdown",
   "metadata": {},
   "source": [
    "On veut potentiellement se débarrasser de colonnes `flow_id`, `date` et `time`. Et aussi passer la colonne de \"vraies\" dates en `Index`."
   ]
  },
  {
   "cell_type": "code",
   "execution_count": null,
   "metadata": {
    "collapsed": false
   },
   "outputs": [],
   "source": [
    "# enchainer des fonctions avec 'drop' et 'set_index'"
   ]
  },
  {
   "cell_type": "code",
   "execution_count": null,
   "metadata": {
    "collapsed": false
   },
   "outputs": [],
   "source": [
    "# mettre ça dans un nouvelle variable (drop & set_index renvoient des **copies**)"
   ]
  },
  {
   "cell_type": "code",
   "execution_count": null,
   "metadata": {
    "collapsed": false
   },
   "outputs": [],
   "source": [
    "dflow.head()"
   ]
  },
  {
   "cell_type": "code",
   "execution_count": null,
   "metadata": {
    "collapsed": false
   },
   "outputs": [],
   "source": [
    "dflow.info()"
   ]
  },
  {
   "cell_type": "markdown",
   "metadata": {},
   "source": [
    "### Analyse\n",
    "\n",
    "Un peu de stats :\n",
    "\n",
    "* combien de gens qui sortent / qui entrent\n",
    "* moyenne des gens qui sortent / entrent"
   ]
  },
  {
   "cell_type": "code",
   "execution_count": null,
   "metadata": {
    "collapsed": false
   },
   "outputs": [],
   "source": [
    "# compter les gens qui sortent / entrent"
   ]
  },
  {
   "cell_type": "code",
   "execution_count": null,
   "metadata": {
    "collapsed": false
   },
   "outputs": [],
   "source": [
    "# moyenne des gens qui sortent / entrent"
   ]
  },
  {
   "cell_type": "markdown",
   "metadata": {},
   "source": [
    "Et si on veut appliquer plusieurs fonctions d'aggrégation sur nos groupes : `agg`."
   ]
  },
  {
   "cell_type": "code",
   "execution_count": null,
   "metadata": {
    "collapsed": false
   },
   "outputs": [],
   "source": [
    "# on veut la moyenne, mais ausi la somme, mais aussi l'écart-type"
   ]
  },
  {
   "cell_type": "markdown",
   "metadata": {},
   "source": [
    "Les fonctions marquées `'mean'` fonctionnent bien puisqu'elles sont connues de pandas (e.g. `df.mean()`). Pour tout autre fonction, lui passer la fonction et non pas une chaîne de caractères.\n",
    "\n",
    "Et si on voulait regarder la somme où la moyenne par jour ?\n",
    "\n",
    "...\n",
    "\n",
    "ou toutes les 4 heures ?"
   ]
  },
  {
   "cell_type": "code",
   "execution_count": null,
   "metadata": {
    "collapsed": false
   },
   "outputs": [],
   "source": [
    "# la méthode resample est votre amie\n",
    "# on peut commencer par les gens qui sortent...\n",
    "# day_out = ???\n",
    "# et qui entrent\n",
    "# day_in = ???"
   ]
  },
  {
   "cell_type": "code",
   "execution_count": null,
   "metadata": {
    "collapsed": false
   },
   "outputs": [],
   "source": [
    "day_out.head()"
   ]
  },
  {
   "cell_type": "code",
   "execution_count": null,
   "metadata": {
    "collapsed": false
   },
   "outputs": [],
   "source": [
    "# distribution du nombre moyen de gens qui sortent\n",
    "# sns.distplot ???"
   ]
  },
  {
   "cell_type": "code",
   "execution_count": null,
   "metadata": {
    "collapsed": false
   },
   "outputs": [],
   "source": [
    "day = pd.DataFrame({\"in\": day_in,\n",
    "                   \"out\": day_out})\n",
    "day.head()"
   ]
  },
  {
   "cell_type": "code",
   "execution_count": null,
   "metadata": {
    "collapsed": false
   },
   "outputs": [],
   "source": [
    "# tracer l'évolution, par jour, des gens qui sortent/entrent\n",
    "day.plot()"
   ]
  },
  {
   "cell_type": "markdown",
   "metadata": {},
   "source": [
    "Et toutes les 4 heures du coup ?"
   ]
  },
  {
   "cell_type": "code",
   "execution_count": null,
   "metadata": {
    "collapsed": false
   },
   "outputs": [],
   "source": [
    "# essayer \"4H\" pour voir ??"
   ]
  },
  {
   "cell_type": "markdown",
   "metadata": {},
   "source": [
    "Et si on veut, on peut sommer, où calculer l'écart-type pour ces tranches de temps : 1 journée, 4 heures, ou même pourquoi pas toutes les semaines du mercredi au mardi."
   ]
  },
  {
   "cell_type": "code",
   "execution_count": null,
   "metadata": {
    "collapsed": false
   },
   "outputs": [],
   "source": [
    "# dflow.query(\"not out\").resample('W-WED').sum()['count']"
   ]
  },
  {
   "cell_type": "markdown",
   "metadata": {},
   "source": [
    "### Exo\n",
    "\n",
    "Je veux un profil d'une journée (24 heures) pour les gens qui sortent et qui entrent. Par exemple le nombre total de personnes qui sont sortie par tranche horaire :\n",
    "\n",
    "* 00-01h : 45\n",
    "* 01-02h : 23\n",
    "* ...\n",
    "* 12-13h : 212\n",
    "* ..."
   ]
  },
  {
   "cell_type": "markdown",
   "metadata": {},
   "source": [
    "#### Échantillonner"
   ]
  },
  {
   "cell_type": "code",
   "execution_count": null,
   "metadata": {
    "collapsed": true
   },
   "outputs": [],
   "source": [
    "# prennons dans un premier temps les gens qui entrent\n",
    "# profile = ???\n",
    "# note pour plus tard : j'ai envie que ça soit un DataFrame\n",
    "#                       et aussi de remettre 'ts' dans une colonne"
   ]
  },
  {
   "cell_type": "code",
   "execution_count": null,
   "metadata": {
    "collapsed": false
   },
   "outputs": [],
   "source": [
    "profile[240:264]"
   ]
  },
  {
   "cell_type": "markdown",
   "metadata": {},
   "source": [
    "#### \"Tagger\" les heures"
   ]
  },
  {
   "cell_type": "code",
   "execution_count": null,
   "metadata": {
    "collapsed": false
   },
   "outputs": [],
   "source": [
    "# fonction qui, pour un timestamp donné, retourne l'heure de la journée\n",
    "\n",
    "def hour(ts):\n",
    "    return ??"
   ]
  },
  {
   "cell_type": "code",
   "execution_count": null,
   "metadata": {
    "collapsed": false
   },
   "outputs": [],
   "source": [
    "# nouvelle colonne\n",
    "# profile['hour'] = ??"
   ]
  },
  {
   "cell_type": "code",
   "execution_count": null,
   "metadata": {
    "collapsed": false
   },
   "outputs": [],
   "source": [
    "profile.head(24)"
   ]
  },
  {
   "cell_type": "markdown",
   "metadata": {},
   "source": [
    "#### Aggréger les données\n",
    "\n",
    "... puis faire un beau graphe"
   ]
  },
  {
   "cell_type": "code",
   "execution_count": null,
   "metadata": {
    "collapsed": false
   },
   "outputs": [],
   "source": [
    "# on veut **grouper** par heure, on va faire un .... ??"
   ]
  },
  {
   "cell_type": "markdown",
   "metadata": {},
   "source": [
    "On peut faire la même chose avec `dflow.query(\"out\")` et comparer."
   ]
  },
  {
   "cell_type": "markdown",
   "metadata": {},
   "source": [
    "### Pour finir, quelques courbes"
   ]
  },
  {
   "cell_type": "code",
   "execution_count": null,
   "metadata": {
    "collapsed": false
   },
   "outputs": [],
   "source": [
    "# Séries temporelles du nombre de personnes qui sortent\n",
    "dflow.query('out')['count'].plot()"
   ]
  },
  {
   "cell_type": "markdown",
   "metadata": {},
   "source": [
    "On peut vouloir **lisser** les courbes à forte variabilité : `rolling`. On calcule la moyenne glissante sur les K dernières valeurs."
   ]
  },
  {
   "cell_type": "code",
   "execution_count": null,
   "metadata": {
    "collapsed": false
   },
   "outputs": [],
   "source": [
    "dflow.query('not out').rolling(24).mean().plot()"
   ]
  },
  {
   "cell_type": "markdown",
   "metadata": {},
   "source": [
    "## Question(s) ??\n",
    "\n",
    "Et merci de votre attention\n",
    "\n",
    "![over](futurama-over.jpg)"
   ]
  }
 ],
 "metadata": {
  "kernelspec": {
   "display_name": "Python 3",
   "language": "python",
   "name": "python3"
  },
  "language_info": {
   "codemirror_mode": {
    "name": "ipython",
    "version": 3
   },
   "file_extension": ".py",
   "mimetype": "text/x-python",
   "name": "python",
   "nbconvert_exporter": "python",
   "pygments_lexer": "ipython3",
   "version": "3.5.2"
  }
 },
 "nbformat": 4,
 "nbformat_minor": 0
}
